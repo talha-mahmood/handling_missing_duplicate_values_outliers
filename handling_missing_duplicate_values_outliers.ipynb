{
  "nbformat": 4,
  "nbformat_minor": 0,
  "metadata": {
    "colab": {
      "provenance": []
    },
    "kernelspec": {
      "name": "python3",
      "display_name": "Python 3"
    },
    "language_info": {
      "name": "python"
    }
  },
  "cells": [
    {
      "cell_type": "markdown",
      "source": [
        "# Removing missing, duplicate values and outliers from NCHS dataset"
      ],
      "metadata": {
        "id": "D73mwZ1rQXfM"
      }
    },
    {
      "cell_type": "code",
      "source": [
        "import pandas as pd\n",
        "\n",
        "df=pd.read_csv('NCHS.csv')\n"
      ],
      "metadata": {
        "id": "JxJeM9B2QZpT"
      },
      "execution_count": 62,
      "outputs": []
    },
    {
      "cell_type": "code",
      "source": [
        "# Assuming df is your DataFrame\n",
        "missing_values = df.isnull().sum()\n",
        "print(missing_values)\n"
      ],
      "metadata": {
        "colab": {
          "base_uri": "https://localhost:8080/"
        },
        "id": "-orhY0vdAsne",
        "outputId": "f0b4f561-8edc-4447-aa6a-23677916edb0"
      },
      "execution_count": 63,
      "outputs": [
        {
          "output_type": "stream",
          "name": "stdout",
          "text": [
            "Year                         0\n",
            "113 Cause Name               0\n",
            "Cause Name                   0\n",
            "State                        0\n",
            "Deaths                      15\n",
            "Age-adjusted Death Rate    111\n",
            "dtype: int64\n"
          ]
        }
      ]
    },
    {
      "cell_type": "code",
      "source": [
        "df['Deaths'].fillna(df['Deaths'].mean(), inplace=True)\n",
        "df['Age-adjusted Death Rate'].fillna(df['Age-adjusted Death Rate'].mean(), inplace=True)\n",
        "\n",
        "df.isnull().sum()"
      ],
      "metadata": {
        "colab": {
          "base_uri": "https://localhost:8080/",
          "height": 272
        },
        "id": "JFlzzd6UA1r9",
        "outputId": "4b8f1af5-a172-4355-aa0e-932d98a3c241"
      },
      "execution_count": 64,
      "outputs": [
        {
          "output_type": "execute_result",
          "data": {
            "text/plain": [
              "Year                       0\n",
              "113 Cause Name             0\n",
              "Cause Name                 0\n",
              "State                      0\n",
              "Deaths                     0\n",
              "Age-adjusted Death Rate    0\n",
              "dtype: int64"
            ],
            "text/html": [
              "<div>\n",
              "<style scoped>\n",
              "    .dataframe tbody tr th:only-of-type {\n",
              "        vertical-align: middle;\n",
              "    }\n",
              "\n",
              "    .dataframe tbody tr th {\n",
              "        vertical-align: top;\n",
              "    }\n",
              "\n",
              "    .dataframe thead th {\n",
              "        text-align: right;\n",
              "    }\n",
              "</style>\n",
              "<table border=\"1\" class=\"dataframe\">\n",
              "  <thead>\n",
              "    <tr style=\"text-align: right;\">\n",
              "      <th></th>\n",
              "      <th>0</th>\n",
              "    </tr>\n",
              "  </thead>\n",
              "  <tbody>\n",
              "    <tr>\n",
              "      <th>Year</th>\n",
              "      <td>0</td>\n",
              "    </tr>\n",
              "    <tr>\n",
              "      <th>113 Cause Name</th>\n",
              "      <td>0</td>\n",
              "    </tr>\n",
              "    <tr>\n",
              "      <th>Cause Name</th>\n",
              "      <td>0</td>\n",
              "    </tr>\n",
              "    <tr>\n",
              "      <th>State</th>\n",
              "      <td>0</td>\n",
              "    </tr>\n",
              "    <tr>\n",
              "      <th>Deaths</th>\n",
              "      <td>0</td>\n",
              "    </tr>\n",
              "    <tr>\n",
              "      <th>Age-adjusted Death Rate</th>\n",
              "      <td>0</td>\n",
              "    </tr>\n",
              "  </tbody>\n",
              "</table>\n",
              "</div><br><label><b>dtype:</b> int64</label>"
            ]
          },
          "metadata": {},
          "execution_count": 64
        }
      ]
    },
    {
      "cell_type": "code",
      "source": [
        "duplicate_rows = df.duplicated().sum()\n",
        "print(f'Number of duplicate rows: {duplicate_rows}')\n"
      ],
      "metadata": {
        "colab": {
          "base_uri": "https://localhost:8080/"
        },
        "id": "VWFZXwLxGZbF",
        "outputId": "8ca18252-b602-44ea-9e84-9071c8dd02c0"
      },
      "execution_count": 65,
      "outputs": [
        {
          "output_type": "stream",
          "name": "stdout",
          "text": [
            "Number of duplicate rows: 0\n"
          ]
        }
      ]
    },
    {
      "cell_type": "code",
      "source": [
        "import matplotlib.pyplot as plt\n",
        "import seaborn as sns\n",
        "# Assuming 'column_name' is a numerical column in your DataFrame\n",
        "plt.figure(figsize=(10, 6))\n",
        "sns.boxplot(df['Age-adjusted Death Rate'])\n",
        "plt.show()\n"
      ],
      "metadata": {
        "colab": {
          "base_uri": "https://localhost:8080/",
          "height": 503
        },
        "id": "tq_LwP8qGrQz",
        "outputId": "78f9ff0b-f3d1-4a03-8d43-e845a4c592b8"
      },
      "execution_count": 66,
      "outputs": [
        {
          "output_type": "display_data",
          "data": {
            "text/plain": [
              "<Figure size 1000x600 with 1 Axes>"
            ],
            "image/png": "[encoded data removed]"
          },
          "metadata": {}
        }
      ]
    },
    {
      "cell_type": "code",
      "source": [
        "Q1 = df['Age-adjusted Death Rate'].quantile(0.25)\n",
        "Q3 = df['Age-adjusted Death Rate'].quantile(0.75)\n",
        "IQR = Q3 - Q1\n",
        "\n",
        "lower_bound = Q1 - 1.5 * IQR\n",
        "upper_bound = Q3 + 1.5 * IQR\n",
        "\n",
        "outliers = df[(df['Age-adjusted Death Rate'] < lower_bound) | (df['Age-adjusted Death Rate'] > upper_bound)]\n",
        "print(outliers)\n"
      ],
      "metadata": {
        "colab": {
          "base_uri": "https://localhost:8080/"
        },
        "id": "nbTzQOOHGnuE",
        "outputId": "194e3aa1-e922-45d2-d80e-409d44a59d2e"
      },
      "execution_count": 67,
      "outputs": [
        {
          "output_type": "stream",
          "name": "stdout",
          "text": [
            "       Year                 113 Cause Name  Cause Name          State  \\\n",
            "36     2003                     All Causes  All Causes       Colorado   \n",
            "73     2005                     All Causes  All Causes        Vermont   \n",
            "146    2006                     All Causes  All Causes          Texas   \n",
            "183    2010                     All Causes  All Causes         Nevada   \n",
            "292    2011                     All Causes  All Causes       Missouri   \n",
            "...     ...                            ...         ...            ...   \n",
            "11487  2015  Malignant neoplasms (C00-C97)      Cancer       Virginia   \n",
            "11488  2015  Malignant neoplasms (C00-C97)      Cancer     Washington   \n",
            "11489  2015  Malignant neoplasms (C00-C97)      Cancer  West Virginia   \n",
            "11490  2015  Malignant neoplasms (C00-C97)      Cancer      Wisconsin   \n",
            "11491  2015  Malignant neoplasms (C00-C97)      Cancer        Wyoming   \n",
            "\n",
            "         Deaths  Age-adjusted Death Rate  \n",
            "36      29506.0                    792.0  \n",
            "73       5066.0                    751.6  \n",
            "146    157150.0                    807.7  \n",
            "183     19623.0                    795.4  \n",
            "292     55848.0                    812.0  \n",
            "...         ...                      ...  \n",
            "11487   14947.0                    159.5  \n",
            "11488   12687.0                    156.4  \n",
            "11489    4839.0                    190.4  \n",
            "11490   11423.0                    159.3  \n",
            "11491     931.0                    139.4  \n",
            "\n",
            "[2652 rows x 6 columns]\n"
          ]
        }
      ]
    },
    {
      "cell_type": "code",
      "source": [
        "#removing outliers rows\n",
        "df = df[(df['Age-adjusted Death Rate'] >= lower_bound) & (df['Age-adjusted Death Rate'] <= upper_bound)]\n",
        "print(df)\n",
        "df.to_csv('NCHS2.csv')"
      ],
      "metadata": {
        "colab": {
          "base_uri": "https://localhost:8080/"
        },
        "id": "k1UWS8J0P4Gl",
        "outputId": "6b2c3864-ac34-4872-be02-71e1d91f8dd7"
      },
      "execution_count": 68,
      "outputs": [
        {
          "output_type": "stream",
          "name": "stdout",
          "text": [
            "       Year                                     113 Cause Name  \\\n",
            "0      1999  Accidents (unintentional injuries) (V01-X59,Y8...   \n",
            "1      1999  Accidents (unintentional injuries) (V01-X59,Y8...   \n",
            "2      1999  Accidents (unintentional injuries) (V01-X59,Y8...   \n",
            "3      1999  Accidents (unintentional injuries) (V01-X59,Y8...   \n",
            "4      1999  Accidents (unintentional injuries) (V01-X59,Y8...   \n",
            "...     ...                                                ...   \n",
            "15023  2015                               Septicemia (A40-A41)   \n",
            "15024  2015                               Septicemia (A40-A41)   \n",
            "15025  2015                               Septicemia (A40-A41)   \n",
            "15026  2015                               Septicemia (A40-A41)   \n",
            "15027  2015                               Septicemia (A40-A41)   \n",
            "\n",
            "                   Cause Name          State  Deaths  Age-adjusted Death Rate  \n",
            "0      Unintentional Injuries        Alabama  2313.0                     52.2  \n",
            "1      Unintentional Injuries         Alaska   294.0                     55.9  \n",
            "2      Unintentional Injuries        Arizona  2214.0                     44.8  \n",
            "3      Unintentional Injuries       Arkansas  1287.0                     47.6  \n",
            "4      Unintentional Injuries     California  9198.0                     28.7  \n",
            "...                       ...            ...     ...                      ...  \n",
            "15023              Septicemia       Virginia  1187.0                     13.0  \n",
            "15024              Septicemia     Washington   501.0                      6.3  \n",
            "15025              Septicemia  West Virginia   348.0                     13.9  \n",
            "15026              Septicemia      Wisconsin   517.0                      7.2  \n",
            "15027              Septicemia        Wyoming    46.0                      7.1  \n",
            "\n",
            "[12376 rows x 6 columns]\n"
          ]
        }
      ]
    },
    {
      "cell_type": "markdown",
      "source": [
        "# Removing missing, duplicate values and outliers from titanic dataset"
      ],
      "metadata": {
        "id": "yp8eYIJoQDID"
      }
    },
    {
      "cell_type": "code",
      "source": [
        "import pandas as pd\n",
        "\n",
        "#importing titanic dataset\n",
        "df2=pd.read_csv('titanic.csv')\n"
      ],
      "metadata": {
        "id": "fI6tZDEjIr3-"
      },
      "execution_count": 69,
      "outputs": []
    },
    {
      "cell_type": "code",
      "source": [
        "# Assuming df is your DataFrame\n",
        "missing_values = df2.isnull().sum()\n",
        "print(missing_values)"
      ],
      "metadata": {
        "colab": {
          "base_uri": "https://localhost:8080/"
        },
        "id": "2slR4RhpL1gh",
        "outputId": "fdf944d7-3848-4c31-9914-c937dfa107c7"
      },
      "execution_count": 70,
      "outputs": [
        {
          "output_type": "stream",
          "name": "stdout",
          "text": [
            "PassengerId      0\n",
            "Survived         0\n",
            "Pclass           0\n",
            "Name             0\n",
            "Sex              0\n",
            "Age             86\n",
            "SibSp            0\n",
            "Parch            0\n",
            "Ticket           0\n",
            "Fare             1\n",
            "Cabin          327\n",
            "Embarked         0\n",
            "dtype: int64\n"
          ]
        }
      ]
    },
    {
      "cell_type": "code",
      "source": [
        "df2['Age'].fillna(df2['Age'].mean(), inplace=True)\n",
        "df2['Fare'].fillna(df2['Fare'].mean(), inplace=True)\n",
        "df2['Cabin'].fillna(0, inplace=True)\n",
        "\n",
        "\n",
        "df2.isnull().sum()"
      ],
      "metadata": {
        "colab": {
          "base_uri": "https://localhost:8080/",
          "height": 460
        },
        "id": "_1s-qJ_zL82I",
        "outputId": "aae5c640-dff1-47cc-d962-702da9cf80cf"
      },
      "execution_count": 71,
      "outputs": [
        {
          "output_type": "execute_result",
          "data": {
            "text/plain": [
              "PassengerId    0\n",
              "Survived       0\n",
              "Pclass         0\n",
              "Name           0\n",
              "Sex            0\n",
              "Age            0\n",
              "SibSp          0\n",
              "Parch          0\n",
              "Ticket         0\n",
              "Fare           0\n",
              "Cabin          0\n",
              "Embarked       0\n",
              "dtype: int64"
            ],
            "text/html": [
              "<div>\n",
              "<style scoped>\n",
              "    .dataframe tbody tr th:only-of-type {\n",
              "        vertical-align: middle;\n",
              "    }\n",
              "\n",
              "    .dataframe tbody tr th {\n",
              "        vertical-align: top;\n",
              "    }\n",
              "\n",
              "    .dataframe thead th {\n",
              "        text-align: right;\n",
              "    }\n",
              "</style>\n",
              "<table border=\"1\" class=\"dataframe\">\n",
              "  <thead>\n",
              "    <tr style=\"text-align: right;\">\n",
              "      <th></th>\n",
              "      <th>0</th>\n",
              "    </tr>\n",
              "  </thead>\n",
              "  <tbody>\n",
              "    <tr>\n",
              "      <th>PassengerId</th>\n",
              "      <td>0</td>\n",
              "    </tr>\n",
              "    <tr>\n",
              "      <th>Survived</th>\n",
              "      <td>0</td>\n",
              "    </tr>\n",
              "    <tr>\n",
              "      <th>Pclass</th>\n",
              "      <td>0</td>\n",
              "    </tr>\n",
              "    <tr>\n",
              "      <th>Name</th>\n",
              "      <td>0</td>\n",
              "    </tr>\n",
              "    <tr>\n",
              "      <th>Sex</th>\n",
              "      <td>0</td>\n",
              "    </tr>\n",
              "    <tr>\n",
              "      <th>Age</th>\n",
              "      <td>0</td>\n",
              "    </tr>\n",
              "    <tr>\n",
              "      <th>SibSp</th>\n",
              "      <td>0</td>\n",
              "    </tr>\n",
              "    <tr>\n",
              "      <th>Parch</th>\n",
              "      <td>0</td>\n",
              "    </tr>\n",
              "    <tr>\n",
              "      <th>Ticket</th>\n",
              "      <td>0</td>\n",
              "    </tr>\n",
              "    <tr>\n",
              "      <th>Fare</th>\n",
              "      <td>0</td>\n",
              "    </tr>\n",
              "    <tr>\n",
              "      <th>Cabin</th>\n",
              "      <td>0</td>\n",
              "    </tr>\n",
              "    <tr>\n",
              "      <th>Embarked</th>\n",
              "      <td>0</td>\n",
              "    </tr>\n",
              "  </tbody>\n",
              "</table>\n",
              "</div><br><label><b>dtype:</b> int64</label>"
            ]
          },
          "metadata": {},
          "execution_count": 71
        }
      ]
    },
    {
      "cell_type": "code",
      "source": [
        "duplicate_rows = df2.duplicated().sum()\n",
        "print(f'Number of duplicate rows: {duplicate_rows}')"
      ],
      "metadata": {
        "colab": {
          "base_uri": "https://localhost:8080/"
        },
        "id": "nQYpzrUhM6xn",
        "outputId": "220ad957-61d4-4220-8e0e-b8b5fc357e2f"
      },
      "execution_count": 72,
      "outputs": [
        {
          "output_type": "stream",
          "name": "stdout",
          "text": [
            "Number of duplicate rows: 0\n"
          ]
        }
      ]
    },
    {
      "cell_type": "code",
      "source": [
        "import matplotlib.pyplot as plt\n",
        "import seaborn as sns\n",
        "# Assuming 'column_name' is a numerical column in your DataFrame\n",
        "plt.figure(figsize=(10, 6))\n",
        "sns.boxplot(df2['Age'])\n",
        "plt.show()"
      ],
      "metadata": {
        "colab": {
          "base_uri": "https://localhost:8080/",
          "height": 503
        },
        "id": "Dk1zJCCDNDi_",
        "outputId": "97ebfb2b-9bc6-4908-ea02-891460a9e07a"
      },
      "execution_count": 73,
      "outputs": [
        {
          "output_type": "display_data",
          "data": {
            "text/plain": [
              "<Figure size 1000x600 with 1 Axes>"
            ],
            "image/png": "[encoded data removed]"
          },
          "metadata": {}
        }
      ]
    },
    {
      "cell_type": "code",
      "source": [
        "Q1 = df2['Age'].quantile(0.25)\n",
        "Q3 = df2['Age'].quantile(0.75)\n",
        "IQR = Q3 - Q1\n",
        "\n",
        "lower_bound = Q1 - 1.5 * IQR\n",
        "upper_bound = Q3 + 1.5 * IQR\n",
        "\n",
        "outliers = df2[(df2['Age'] < lower_bound) | (df2['Age'] > upper_bound)]\n",
        "print(outliers.shape)\n"
      ],
      "metadata": {
        "colab": {
          "base_uri": "https://localhost:8080/"
        },
        "id": "2mlw6QVoOfrH",
        "outputId": "167fac64-c418-45d5-ad51-dc744017b845"
      },
      "execution_count": 74,
      "outputs": [
        {
          "output_type": "stream",
          "name": "stdout",
          "text": [
            "(36, 12)\n"
          ]
        }
      ]
    },
    {
      "cell_type": "code",
      "source": [
        "#removing outliers rows\n",
        "df2 = df2[(df3['Age'] >= lower_bound) & (df2['Age'] <= upper_bound)]\n",
        "print(df2.shape)\n",
        "df2.to_csv('titanic2.csv')"
      ],
      "metadata": {
        "colab": {
          "base_uri": "https://localhost:8080/"
        },
        "id": "Z7IqDcvrPVnE",
        "outputId": "add1102d-4028-4285-c1a0-598afe6634ba"
      },
      "execution_count": 75,
      "outputs": [
        {
          "output_type": "stream",
          "name": "stdout",
          "text": [
            "(382, 12)\n"
          ]
        }
      ]
    }
  ]
}